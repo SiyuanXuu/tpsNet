{
 "cells": [
  {
   "cell_type": "markdown",
   "metadata": {},
   "source": [
    "### Train"
   ]
  },
  {
   "cell_type": "markdown",
   "metadata": {},
   "source": [
    "- Standard TPS training ¶"
   ]
  },
  {
   "cell_type": "code",
   "execution_count": 2,
   "metadata": {
    "scrolled": true
   },
   "outputs": [
    {
     "name": "stdout",
     "output_type": "stream",
     "text": [
      "load model TPS\n",
      "start calculate T_init...\n",
      "T_init.shape=(40000, 16)\n",
      "saved T_init at file : output/T_init.txt\n",
      "load T matrix from output/T_init.txt\n",
      "--------- Epoch 0 ---------\n",
      "iter   0 | Recons loss=148.52816772 | theta_var_mean=0.00000000\n",
      "cost time:13.546189546585083 s\n",
      "Epoch 0 training finished\n",
      "save theta and disparity at output/\n",
      "--------- Epoch 1 ---------\n",
      "iter   0 | Recons loss=145.51626587 | theta_var_mean=0.00145941\n",
      "cost time:5.180393218994141 s\n",
      "Epoch 1 training finished\n",
      "save theta and disparity at output/\n",
      "--------- Epoch 2 ---------\n",
      "iter   0 | Recons loss=142.61737061 | theta_var_mean=0.00136251\n",
      "cost time:4.010408163070679 s\n",
      "Epoch 2 training finished\n",
      "save theta and disparity at output/\n",
      "--------- Epoch 3 ---------\n",
      "iter   0 | Recons loss=139.29780579 | theta_var_mean=0.00185852\n",
      "cost time:4.289763450622559 s\n",
      "Epoch 3 training finished\n",
      "save theta and disparity at output/\n",
      "--------- Epoch 4 ---------\n",
      "iter   0 | Recons loss=136.13073730 | theta_var_mean=-0.00009957\n",
      "cost time:4.240579843521118 s\n",
      "Epoch 4 training finished\n",
      "save theta and disparity at output/\n",
      "--------- Epoch 5 ---------\n",
      "iter   0 | Recons loss=133.18901062 | theta_var_mean=-0.00245420\n",
      "cost time:4.292086362838745 s\n",
      "Epoch 5 training finished\n",
      "save theta and disparity at output/\n",
      "--------- Epoch 6 ---------\n",
      "iter   0 | Recons loss=130.49822998 | theta_var_mean=-0.00466809\n",
      "cost time:4.253671646118164 s\n",
      "Epoch 6 training finished\n",
      "save theta and disparity at output/\n",
      "--------- Epoch 7 ---------\n",
      "iter   0 | Recons loss=127.95661926 | theta_var_mean=-0.00670335\n",
      "cost time:4.306264877319336 s\n",
      "Epoch 7 training finished\n",
      "save theta and disparity at output/\n",
      "--------- Epoch 8 ---------\n",
      "iter   0 | Recons loss=125.38459015 | theta_var_mean=-0.00845770\n",
      "cost time:4.352870941162109 s\n",
      "Epoch 8 training finished\n",
      "save theta and disparity at output/\n",
      "--------- Epoch 9 ---------\n",
      "iter   0 | Recons loss=122.79489899 | theta_var_mean=-0.00945381\n",
      "cost time:4.071037292480469 s\n",
      "Epoch 9 training finished\n",
      "save theta and disparity at output/\n"
     ]
    }
   ],
   "source": [
    "%run std_tps.py --model 'TPS' --cpts_row 4 --cpts_col 4 --output_directory output/ --epoch_num 10"
   ]
  },
  {
   "cell_type": "markdown",
   "metadata": {},
   "source": [
    "- Alternative training Model : OTPS"
   ]
  },
  {
   "cell_type": "code",
   "execution_count": null,
   "metadata": {},
   "outputs": [
    {
     "name": "stdout",
     "output_type": "stream",
     "text": [
      "start calculate T_init...\n",
      "T_init.shape=(40000, 16)\n",
      "saved T_init at file : output/T_init.txt\n",
      "---------Epoch 1---------\n",
      "[1 / 100] start train T\n",
      "Step  10 | recons loss=19.27857286 | smooth loss=3.90351772 | norm loss=0.24123639 | total loss=23.42332697\n",
      "Step  19 | recons loss=18.91578718 | smooth loss=0.89632189 | norm loss=0.30412745 | total loss=20.11623653\n",
      "During training T, is theta keep constant?\n",
      "True\n",
      "[1 / 100] finished training of T\n",
      "[1 / 100] start train theta\n",
      "Step   0 | recons loss=17.68890876 | smooth loss=0.89632189 | norm loss=0.10648227 | total loss=110.66420746\n",
      "Step  10 | recons loss=17.64146668 | smooth loss=0.89632189 | norm loss=0.10645442 | total loss=110.36801147\n",
      "Step  19 | recons loss=17.59874276 | smooth loss=0.89632189 | norm loss=0.10643084 | total loss=110.10085297\n",
      "During training T, is theta keep constant?\n",
      "True\n",
      "[1 / 100] finished training of z\n",
      "Step   0 | recons loss=17.75449978 | smooth loss=0.89632189 | norm loss=0.11349845 | total loss=111.26385498\n",
      "Step  10 | recons loss=17.72633882 | smooth loss=0.89632189 | norm loss=0.11349113 | total loss=111.08772278\n",
      "Step  19 | recons loss=17.68481202 | smooth loss=0.89632189 | norm loss=0.11350223 | total loss=110.82778168\n",
      "During training T, is theta keep constant?\n",
      "True\n",
      "[1 / 100] finished training of z\n",
      "Epoch 1 cost time:225.17606353759766 s\n",
      "---------Epoch 2---------\n",
      "[2 / 100] start train T\n",
      "Step  10 | recons loss=17.13123049 | smooth loss=0.24306473 | norm loss=0.18920346 | total loss=17.56349868\n",
      "Step  19 | recons loss=17.96052681 | smooth loss=0.13669205 | norm loss=0.22071589 | total loss=18.31793474\n",
      "During training T, is theta keep constant?\n",
      "True\n",
      "[2 / 100] finished training of T\n",
      "[2 / 100] start train theta\n",
      "Step   0 | recons loss=17.41256374 | smooth loss=0.13669205 | norm loss=0.17854211 | total loss=109.18300629\n",
      "Step  10 | recons loss=17.38429522 | smooth loss=0.13669205 | norm loss=0.17858072 | total loss=109.00659180\n",
      "Step  19 | recons loss=17.34548593 | smooth loss=0.13669205 | norm loss=0.17858659 | total loss=108.76387024\n",
      "During training T, is theta keep constant?\n",
      "True\n",
      "[2 / 100] finished training of z\n",
      "Step   0 | recons loss=17.19318433 | smooth loss=0.13669205 | norm loss=0.18728830 | total loss=107.70926666\n",
      "Step  10 | recons loss=17.16705038 | smooth loss=0.13669205 | norm loss=0.18729417 | total loss=107.54534149\n",
      "Step  19 | recons loss=17.12923354 | smooth loss=0.13669205 | norm loss=0.18731752 | total loss=107.30831146\n",
      "During training T, is theta keep constant?\n",
      "True\n",
      "[2 / 100] finished training of z\n",
      "Epoch 2 cost time:222.73157691955566 s\n",
      "---------Epoch 3---------\n",
      "[3 / 100] start train T\n",
      "Step  10 | recons loss=17.37498631 | smooth loss=0.10393912 | norm loss=0.29315780 | total loss=17.77208323\n",
      "Step  19 | recons loss=17.62071235 | smooth loss=0.09758000 | norm loss=0.38259995 | total loss=18.10089230\n",
      "During training T, is theta keep constant?\n",
      "True\n",
      "[3 / 100] finished training of T\n",
      "[3 / 100] start train theta\n",
      "Step   0 | recons loss=17.08013505 | smooth loss=0.09758000 | norm loss=0.35294300 | total loss=106.92057800\n",
      "Step  10 | recons loss=17.05688463 | smooth loss=0.09758000 | norm loss=0.35293925 | total loss=106.77504730\n",
      "Step  19 | recons loss=17.02053848 | smooth loss=0.09758000 | norm loss=0.35288158 | total loss=106.54784393\n",
      "During training T, is theta keep constant?\n",
      "True\n",
      "[3 / 100] finished training of z\n",
      "Step   0 | recons loss=17.83381868 | smooth loss=0.09758000 | norm loss=0.36500797 | total loss=111.60388947\n",
      "Step  10 | recons loss=17.80561189 | smooth loss=0.09758000 | norm loss=0.36502060 | total loss=111.42713165\n",
      "Step  19 | recons loss=17.76595650 | smooth loss=0.09758000 | norm loss=0.36511749 | total loss=111.17889404\n",
      "During training T, is theta keep constant?\n",
      "True\n",
      "[3 / 100] finished training of z\n",
      "Epoch 3 cost time:222.7594747543335 s\n",
      "---------Epoch 4---------\n",
      "[4 / 100] start train T\n",
      "Step  10 | recons loss=16.80576446 | smooth loss=0.09846198 | norm loss=0.51802766 | total loss=17.42225410\n",
      "Step  19 | recons loss=16.98700108 | smooth loss=0.10297514 | norm loss=0.64533979 | total loss=17.73531601\n",
      "During training T, is theta keep constant?\n",
      "True\n",
      "[4 / 100] finished training of T\n",
      "[4 / 100] start train theta\n",
      "Step   0 | recons loss=16.98265915 | smooth loss=0.10297514 | norm loss=0.62866151 | total loss=106.40637970\n",
      "Step  10 | recons loss=16.96264013 | smooth loss=0.10297514 | norm loss=0.62874001 | total loss=106.28111267\n",
      "Step  19 | recons loss=16.93012167 | smooth loss=0.10297514 | norm loss=0.62873214 | total loss=106.07731628\n",
      "During training T, is theta keep constant?\n",
      "True\n",
      "[4 / 100] finished training of z\n",
      "Step   0 | recons loss=16.67696228 | smooth loss=0.10297514 | norm loss=0.64652783 | total loss=104.28358459\n",
      "Step  10 | recons loss=16.65618375 | smooth loss=0.10297514 | norm loss=0.64657533 | total loss=104.15350342\n",
      "Step  19 | recons loss=16.62108883 | smooth loss=0.10297514 | norm loss=0.64669037 | total loss=103.93424988\n",
      "During training T, is theta keep constant?\n",
      "True\n",
      "[4 / 100] finished training of z\n",
      "Epoch 4 cost time:222.8792917728424 s\n",
      "---------Epoch 5---------\n",
      "[5 / 100] start train T\n",
      "Step  10 | recons loss=17.09214693 | smooth loss=0.10917283 | norm loss=0.82337281 | total loss=18.02469257\n",
      "Step  19 | recons loss=17.28918985 | smooth loss=0.11773934 | norm loss=0.99294871 | total loss=18.39987790\n",
      "During training T, is theta keep constant?\n",
      "True\n",
      "[5 / 100] finished training of T\n",
      "[5 / 100] start train theta\n",
      "Step   0 | recons loss=16.40149442 | smooth loss=0.11773934 | norm loss=0.98760575 | total loss=102.72470856\n",
      "Step  10 | recons loss=16.38242443 | smooth loss=0.11773934 | norm loss=0.98758113 | total loss=102.60518646\n",
      "Step  19 | recons loss=16.35066211 | smooth loss=0.11773934 | norm loss=0.98740333 | total loss=102.40635681\n",
      "During training T, is theta keep constant?\n",
      "True\n",
      "[5 / 100] finished training of z\n",
      "Step   0 | recons loss=17.96005604 | smooth loss=0.11773934 | norm loss=1.01343894 | total loss=112.62555695\n",
      "Step  10 | recons loss=17.93705594 | smooth loss=0.11773934 | norm loss=1.01343346 | total loss=112.48093414\n",
      "Step  19 | recons loss=17.89843990 | smooth loss=0.11773934 | norm loss=1.01362407 | total loss=112.23895264\n",
      "During training T, is theta keep constant?\n",
      "True\n",
      "[5 / 100] finished training of z\n",
      "Epoch 5 cost time:222.86352682113647 s\n",
      "---------Epoch 6---------\n",
      "[6 / 100] start train T\n",
      "Step  10 | recons loss=16.85911935 | smooth loss=0.12690362 | norm loss=1.18434358 | total loss=18.17036655\n",
      "Step  19 | recons loss=17.20237990 | smooth loss=0.13722745 | norm loss=1.34118545 | total loss=18.68079280\n",
      "During training T, is theta keep constant?\n",
      "True\n",
      "[6 / 100] finished training of T\n",
      "[6 / 100] start train theta\n",
      "Step   0 | recons loss=16.70781788 | smooth loss=0.13722745 | norm loss=1.34101295 | total loss=104.46672821\n",
      "Step  10 | recons loss=16.68506986 | smooth loss=0.13722745 | norm loss=1.34110904 | total loss=104.32457733\n",
      "Step  19 | recons loss=16.64973136 | smooth loss=0.13722745 | norm loss=1.34103715 | total loss=104.10390472\n",
      "During training T, is theta keep constant?\n",
      "True\n",
      "[6 / 100] finished training of z\n",
      "Step   0 | recons loss=17.19280688 | smooth loss=0.13722745 | norm loss=1.37479293 | total loss=107.80352783\n",
      "Step  10 | recons loss=17.16919580 | smooth loss=0.13722745 | norm loss=1.37483454 | total loss=107.65602875\n",
      "Step  19 | recons loss=17.13432790 | smooth loss=0.13722745 | norm loss=1.37501574 | total loss=107.43735504\n",
      "During training T, is theta keep constant?\n",
      "True\n",
      "[6 / 100] finished training of z\n",
      "Epoch 6 cost time:223.5944483280182 s\n",
      "---------Epoch 7---------\n",
      "[7 / 100] start train T\n",
      "Step  10 | recons loss=16.99172127 | smooth loss=0.14959046 | norm loss=1.54207271 | total loss=18.68338445\n",
      "Step  19 | recons loss=16.64675015 | smooth loss=0.15865374 | norm loss=1.69849795 | total loss=18.50390183\n",
      "During training T, is theta keep constant?\n",
      "True\n",
      "[7 / 100] finished training of T\n",
      "[7 / 100] start train theta\n",
      "Step   0 | recons loss=16.50403430 | smooth loss=0.15865374 | norm loss=1.70391333 | total loss=103.44001770\n",
      "Step  10 | recons loss=16.48543075 | smooth loss=0.15865374 | norm loss=1.70402062 | total loss=103.32339478\n",
      "Step  19 | recons loss=16.45441584 | smooth loss=0.15865374 | norm loss=1.70399392 | total loss=103.12877655\n",
      "During training T, is theta keep constant?\n",
      "True\n",
      "[7 / 100] finished training of z\n"
     ]
    },
    {
     "name": "stdout",
     "output_type": "stream",
     "text": [
      "Step   0 | recons loss=16.41936992 | smooth loss=0.15865374 | norm loss=1.74597311 | total loss=102.81699371\n",
      "Step  10 | recons loss=16.39917655 | smooth loss=0.15865374 | norm loss=1.74602127 | total loss=102.69080353\n",
      "Step  19 | recons loss=16.36702687 | smooth loss=0.15865374 | norm loss=1.74616981 | total loss=102.48982239\n",
      "During training T, is theta keep constant?\n",
      "True\n",
      "[7 / 100] finished training of z\n",
      "Epoch 7 cost time:222.76504826545715 s\n",
      "---------Epoch 8---------\n",
      "[8 / 100] start train T\n"
     ]
    }
   ],
   "source": [
    "%run o_tps.py --pretrained False --cpts_row 4 --cpts_col 4  --epoch_num 100"
   ]
  },
  {
   "cell_type": "code",
   "execution_count": null,
   "metadata": {},
   "outputs": [],
   "source": [
    "%run o_tps.py --cpts_row 4 --cpts_col 4 --pretrained True --epoch_num 2"
   ]
  },
  {
   "cell_type": "markdown",
   "metadata": {},
   "source": [
    "set  `--pretrain True` to load last trained T and theta of OTPS for training"
   ]
  },
  {
   "cell_type": "markdown",
   "metadata": {},
   "source": [
    "After otps training, you can find a T file at `/<output_directory>/T_trained.npy`"
   ]
  },
  {
   "cell_type": "markdown",
   "metadata": {},
   "source": [
    "### Test"
   ]
  },
  {
   "cell_type": "markdown",
   "metadata": {},
   "source": [
    "set `--model OTPS` to load trained T of OTPS model for test"
   ]
  },
  {
   "cell_type": "code",
   "execution_count": null,
   "metadata": {},
   "outputs": [],
   "source": [
    "%run std_tps.py --model 'OTPS'"
   ]
  },
  {
   "cell_type": "code",
   "execution_count": null,
   "metadata": {},
   "outputs": [],
   "source": []
  }
 ],
 "metadata": {
  "kernelspec": {
   "display_name": "Python [conda env:py36]",
   "language": "python",
   "name": "conda-env-py36-py"
  },
  "language_info": {
   "codemirror_mode": {
    "name": "ipython",
    "version": 3
   },
   "file_extension": ".py",
   "mimetype": "text/x-python",
   "name": "python",
   "nbconvert_exporter": "python",
   "pygments_lexer": "ipython3",
   "version": "3.6.12"
  }
 },
 "nbformat": 4,
 "nbformat_minor": 4
}
